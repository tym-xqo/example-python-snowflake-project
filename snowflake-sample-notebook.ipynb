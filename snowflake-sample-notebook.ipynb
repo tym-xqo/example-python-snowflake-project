{
 "cells": [
  {
   "cell_type": "markdown",
   "metadata": {},
   "source": [
    "# Example Jupyter notebook to query Snowflake \n",
    "\n",
    "using SQLAlchemy connector and `sqla-raw` library"
   ]
  },
  {
   "cell_type": "code",
   "execution_count": 11,
   "metadata": {},
   "outputs": [],
   "source": [
    "from raw import db\n",
    "import pandas as pd"
   ]
  },
  {
   "cell_type": "markdown",
   "metadata": {},
   "source": [
    "If you can set `$DATABASE_URL` as an environment variable, that is more secure than including login credentials inline in your notebook, and `sqla_raw` will connect to that by default. However, it is also possible to connect explicitly here by editing the URL to provide the right username and password in a call to `db.engine()` as shown below."
   ]
  },
  {
   "cell_type": "code",
   "execution_count": 12,
   "metadata": {},
   "outputs": [],
   "source": [
    "# Explicit engine connection via `sqla_raw.db.engine()`\n",
    "# Comment out/don't run this cell if using `$DATABASE_URL` as envar:\n",
    "db.engine(DATABASE_URL=\"snowflake://<username>:<password>@bjb09468/acca_db/client_data_sharing?warehouse=acca_wh\")"
   ]
  },
  {
   "cell_type": "code",
   "execution_count": 13,
   "metadata": {},
   "outputs": [],
   "source": [
    "# Define SQL string here. Can also be listed as triple-quoted multiline string, read in from a file, etc.\n",
    "sql = (\n",
    "    \"select id, name, email, created_at\"\n",
    "    \"  from users \"\n",
    "    \" where email not like '%benchprep%' \"\n",
    "    \" order by created_at desc limit 10\"\n",
    ")"
   ]
  },
  {
   "cell_type": "code",
   "execution_count": 14,
   "metadata": {},
   "outputs": [],
   "source": [
    "# Pass the query string to `db.result()` for execution against Snowflake\n",
    "data = db.result(sql)"
   ]
  },
  {
   "cell_type": "code",
   "execution_count": 15,
   "metadata": {},
   "outputs": [
    {
     "data": {
      "text/html": [
       "<div>\n",
       "<style scoped>\n",
       "    .dataframe tbody tr th:only-of-type {\n",
       "        vertical-align: middle;\n",
       "    }\n",
       "\n",
       "    .dataframe tbody tr th {\n",
       "        vertical-align: top;\n",
       "    }\n",
       "\n",
       "    .dataframe thead th {\n",
       "        text-align: right;\n",
       "    }\n",
       "</style>\n",
       "<table border=\"1\" class=\"dataframe\">\n",
       "  <thead>\n",
       "    <tr style=\"text-align: right;\">\n",
       "      <th></th>\n",
       "      <th>id</th>\n",
       "      <th>name</th>\n",
       "      <th>email</th>\n",
       "      <th>created_at</th>\n",
       "    </tr>\n",
       "  </thead>\n",
       "  <tbody>\n",
       "    <tr>\n",
       "      <th>0</th>\n",
       "      <td>44308202</td>\n",
       "      <td>Blade Downing</td>\n",
       "      <td>bladedowning@hotmail.com</td>\n",
       "      <td>2023-09-19 20:02:09.042312</td>\n",
       "    </tr>\n",
       "    <tr>\n",
       "      <th>1</th>\n",
       "      <td>44308002</td>\n",
       "      <td>Mustafa Suhel</td>\n",
       "      <td>mfksuhel@gmail.com</td>\n",
       "      <td>2023-09-19 19:52:18.792365</td>\n",
       "    </tr>\n",
       "    <tr>\n",
       "      <th>2</th>\n",
       "      <td>44307942</td>\n",
       "      <td>Anna Machengo</td>\n",
       "      <td>machengoanna@gmail.com</td>\n",
       "      <td>2023-09-19 19:49:45.305344</td>\n",
       "    </tr>\n",
       "    <tr>\n",
       "      <th>3</th>\n",
       "      <td>44307892</td>\n",
       "      <td>Nehala Puthenpeedikayil Subeer</td>\n",
       "      <td>nehalaps2004@gmail.com</td>\n",
       "      <td>2023-09-19 19:48:49.663975</td>\n",
       "    </tr>\n",
       "    <tr>\n",
       "      <th>4</th>\n",
       "      <td>44307802</td>\n",
       "      <td>Jacob Robins</td>\n",
       "      <td>jacob.j.robins@gmail.com</td>\n",
       "      <td>2023-09-19 19:45:57.704910</td>\n",
       "    </tr>\n",
       "    <tr>\n",
       "      <th>5</th>\n",
       "      <td>44307742</td>\n",
       "      <td>Mustafe Abdulahi Mohamoud</td>\n",
       "      <td>mustafemahamoud859@gmail.com</td>\n",
       "      <td>2023-09-19 19:43:59.512383</td>\n",
       "    </tr>\n",
       "    <tr>\n",
       "      <th>6</th>\n",
       "      <td>44307302</td>\n",
       "      <td>Hadiya Karim Khan</td>\n",
       "      <td>hadiyakhan058@gmail.com</td>\n",
       "      <td>2023-09-19 19:32:27.602171</td>\n",
       "    </tr>\n",
       "    <tr>\n",
       "      <th>7</th>\n",
       "      <td>44307092</td>\n",
       "      <td>Ahmed Hassan Ali</td>\n",
       "      <td>harbihassan98@gmail.com</td>\n",
       "      <td>2023-09-19 19:27:47.666077</td>\n",
       "    </tr>\n",
       "    <tr>\n",
       "      <th>8</th>\n",
       "      <td>44306982</td>\n",
       "      <td>Saqib Javed</td>\n",
       "      <td>maliksaqi17027@gmail.com</td>\n",
       "      <td>2023-09-19 19:24:25.473315</td>\n",
       "    </tr>\n",
       "    <tr>\n",
       "      <th>9</th>\n",
       "      <td>44306402</td>\n",
       "      <td>Daniel Gallagher</td>\n",
       "      <td>dangallagher@ymail.com</td>\n",
       "      <td>2023-09-19 19:09:03.240423</td>\n",
       "    </tr>\n",
       "  </tbody>\n",
       "</table>\n",
       "</div>"
      ],
      "text/plain": [
       "         id                            name                         email  \\\n",
       "0  44308202                   Blade Downing      bladedowning@hotmail.com   \n",
       "1  44308002                   Mustafa Suhel            mfksuhel@gmail.com   \n",
       "2  44307942                   Anna Machengo        machengoanna@gmail.com   \n",
       "3  44307892  Nehala Puthenpeedikayil Subeer        nehalaps2004@gmail.com   \n",
       "4  44307802                    Jacob Robins      jacob.j.robins@gmail.com   \n",
       "5  44307742       Mustafe Abdulahi Mohamoud  mustafemahamoud859@gmail.com   \n",
       "6  44307302               Hadiya Karim Khan       hadiyakhan058@gmail.com   \n",
       "7  44307092                Ahmed Hassan Ali       harbihassan98@gmail.com   \n",
       "8  44306982                     Saqib Javed      maliksaqi17027@gmail.com   \n",
       "9  44306402                Daniel Gallagher        dangallagher@ymail.com   \n",
       "\n",
       "                  created_at  \n",
       "0 2023-09-19 20:02:09.042312  \n",
       "1 2023-09-19 19:52:18.792365  \n",
       "2 2023-09-19 19:49:45.305344  \n",
       "3 2023-09-19 19:48:49.663975  \n",
       "4 2023-09-19 19:45:57.704910  \n",
       "5 2023-09-19 19:43:59.512383  \n",
       "6 2023-09-19 19:32:27.602171  \n",
       "7 2023-09-19 19:27:47.666077  \n",
       "8 2023-09-19 19:24:25.473315  \n",
       "9 2023-09-19 19:09:03.240423  "
      ]
     },
     "execution_count": 15,
     "metadata": {},
     "output_type": "execute_result"
    }
   ],
   "source": [
    "# Convert result to Pandas DataFrame\n",
    "df = pd.DataFrame.from_dict(data)\n",
    "# Display result DataFrame in tabular format (could also plot a viz here, etc.)\n",
    "df"
   ]
  }
 ],
 "metadata": {
  "kernelspec": {
   "display_name": "Python 3.11.3 ('.venv': venv)",
   "language": "python",
   "name": "python3"
  },
  "language_info": {
   "codemirror_mode": {
    "name": "ipython",
    "version": 3
   },
   "file_extension": ".py",
   "mimetype": "text/x-python",
   "name": "python",
   "nbconvert_exporter": "python",
   "pygments_lexer": "ipython3",
   "version": "3.11.3"
  },
  "orig_nbformat": 4,
  "vscode": {
   "interpreter": {
    "hash": "00c5a6af038d2f1dd560cf68069146cb2cd3d186adfd42f698ee7ad027a6739e"
   }
  }
 },
 "nbformat": 4,
 "nbformat_minor": 2
}
