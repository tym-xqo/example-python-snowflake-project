{
 "cells": [
  {
   "cell_type": "markdown",
   "metadata": {},
   "source": [
    "# Example Jupyter notebook to query Snowflake \n",
    "\n",
    "using SQLAlchemy connector and `sqla-raw` library"
   ]
  },
  {
   "cell_type": "code",
   "execution_count": null,
   "metadata": {},
   "outputs": [],
   "source": [
    "from raw import db\n",
    "import pandas as pd"
   ]
  },
  {
   "cell_type": "markdown",
   "metadata": {},
   "source": [
    "If you can set `$DATABASE_URL` as an environment variable, that is more secure than including login credentials inline in your notebook, and `sqla_raw` will connect to that by default. This is the recommended configuration. However, it is also possible to connect explicitly here by editing the URL to provide the right username and password in a call to `db.engine()` as shown below."
   ]
  },
  {
   "cell_type": "code",
   "execution_count": null,
   "metadata": {},
   "outputs": [],
   "source": [
    "# Explicit engine connection via `sqla_raw.db.engine()`\n",
    "# Uncomment below and edit to include appropriate username and password values\n",
    "\n",
    "# DATABASE_URL=\"snowflake://<username>:<password>@bjb09468/acca_db/client_data_sharing?warehouse=acca_wh\"\n",
    "# db.engine(DATABASE_URL)"
   ]
  },
  {
   "cell_type": "code",
   "execution_count": null,
   "metadata": {},
   "outputs": [],
   "source": [
    "# Define SQL string here. Can also be listed as triple-quoted multiline string, read in from a file, etc.\n",
    "sql = (\n",
    "    \"select id, name, email, created_at\"\n",
    "    \"  from users \"\n",
    "    \" where email not like '%benchprep%' \"\n",
    "    \" order by created_at desc limit 10\"\n",
    ")"
   ]
  },
  {
   "cell_type": "code",
   "execution_count": null,
   "metadata": {},
   "outputs": [],
   "source": [
    "# Pass the query string to `db.result()` for execution against Snowflake\n",
    "data = db.result(sql)"
   ]
  },
  {
   "cell_type": "code",
   "execution_count": null,
   "metadata": {},
   "outputs": [],
   "source": [
    "# Convert result to Pandas DataFrame\n",
    "df = pd.DataFrame.from_dict(data)\n",
    "# Display result DataFrame in tabular format (could also plot a viz here, etc.)\n",
    "df"
   ]
  }
 ],
 "metadata": {
  "kernelspec": {
   "display_name": "Python 3.11.3 ('.venv': venv)",
   "language": "python",
   "name": "python3"
  },
  "language_info": {
   "codemirror_mode": {
    "name": "ipython",
    "version": 3
   },
   "file_extension": ".py",
   "mimetype": "text/x-python",
   "name": "python",
   "nbconvert_exporter": "python",
   "pygments_lexer": "ipython3",
   "version": "3.11.3"
  },
  "orig_nbformat": 4,
  "vscode": {
   "interpreter": {
    "hash": "00c5a6af038d2f1dd560cf68069146cb2cd3d186adfd42f698ee7ad027a6739e"
   }
  }
 },
 "nbformat": 4,
 "nbformat_minor": 2
}
